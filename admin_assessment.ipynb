{
 "cells": [
  {
   "cell_type": "markdown",
   "metadata": {},
   "source": [
    "# UQ MDS - Assessment administration"
   ]
  },
  {
   "cell_type": "markdown",
   "metadata": {},
   "source": [
    "## Required\n",
    "The cell below must always be run when launching a new Jupyter notebook instance.<br />\n",
    "Specify the relative path of the course configuration file as a parameter."
   ]
  },
  {
   "cell_type": "code",
   "execution_count": null,
   "metadata": {
    "scrolled": true
   },
   "outputs": [],
   "source": [
    "from ghca.gitlink import GitHubLink\n",
    "GitHubLink = GitHubLink('config/TEST1000_2018_S1.json')"
   ]
  },
  {
   "cell_type": "markdown",
   "metadata": {},
   "source": [
    "## Assign students to assessment (group work)\n",
    "Imports the contents of a CSV file to establish group members. <br />\n",
    "\n",
    "* The method can be ignored if the assessment was configured with `max-group-size = 1`. \n",
    "* Students that are not included in the CSV import will be treated as doing individual work when the assessment is prepared.\n",
    "* Creates groups.json in the `main-dir` of the assessment directory (in the instructors repository).\n",
    "* Imports data based on a CSV which expects the header format GroupName|Members where members are the comma separated GitHub usernames of each student.\n",
    "* The group name will be used when creating the repository name and therefore must be unique for each assessment\n",
    "* If group name is None then the students username will be used for groups n=1.\n",
    "* If this is not a group assessment, run it with anything for input_csv. The script will automatically determine the maximum group size based off the assessment_config.json file and create singleton groups.\n",
    "* Max group size of 0 = unlimited"
   ]
  },
  {
   "cell_type": "code",
   "execution_count": null,
   "metadata": {},
   "outputs": [],
   "source": [
    "IMPORT_STUDENT_GROUPS_CSV = \"\"\"GroupName|Members\n",
    "group1|test001,test002\n",
    "test003|test003\n",
    "\"\"\"\n",
    "\n",
    "GitHubLink.import_assessment_groups_csv(name_assessment='a1', csv_input=IMPORT_STUDENT_GROUPS_CSV)"
   ]
  },
  {
   "cell_type": "markdown",
   "metadata": {},
   "source": [
    "## Prepare assessment\n",
    "Creates a repository for each student containing the assessment files.\n",
    "* FILES MUST BE ADDED TO THE INSTRUCTORS REPO BEFORE CALLING\n",
    "* Visible to instructors\n",
    "* Invisible to students until release_assessment is called.\n",
    "* Students not in a group will be automatically added to the assessment as doing individual work."
   ]
  },
  {
   "cell_type": "code",
   "execution_count": null,
   "metadata": {},
   "outputs": [],
   "source": [
    "GitHubLink.prepare_assessment(name_assessment='a1', name_target_branch='master', overwrite=False)"
   ]
  },
  {
   "cell_type": "markdown",
   "metadata": {},
   "source": [
    "## Release assessment\n",
    "Invites students to a given assessment repository. Available student permissions:\n",
    "* push = Read/write\n",
    "* pull = Read\n",
    "* Admin = full control"
   ]
  },
  {
   "cell_type": "code",
   "execution_count": null,
   "metadata": {},
   "outputs": [],
   "source": [
    "GitHubLink.release_assessment(name_assessment='a1', permission='push')"
   ]
  },
  {
   "cell_type": "markdown",
   "metadata": {},
   "source": [
    "## Update assessment\n",
    "To be used if an item of assessment has been updated after it has been released. \n",
    "* Calls release_assessment to transfer new files to the instructor_updates branch for each students assessment repository.\n",
    "* Creates a pull request notifying the student to merge the instructor_updates branch with master."
   ]
  },
  {
   "cell_type": "code",
   "execution_count": null,
   "metadata": {},
   "outputs": [],
   "source": [
    "GitHubLink.update_assessment_pr(name_assessment='a1')"
   ]
  },
  {
   "cell_type": "markdown",
   "metadata": {},
   "source": [
    "## Close assessment\n",
    "To be used to close students assessment when due.\n",
    "* Sets student access to pull (read) on their repository"
   ]
  },
  {
   "cell_type": "code",
   "execution_count": null,
   "metadata": {},
   "outputs": [],
   "source": [
    "GitHubLink.close_assessment(name_assessment='a1', compress=True)"
   ]
  },
  {
   "cell_type": "markdown",
   "metadata": {},
   "source": [
    "## Forfeit assessment\n",
    "To be used to release an item of assessment back to the user. Helps in reducing the amount of repositories in the organisation.\n",
    "\n",
    "* Assigns admin rights to each member of the repository.\n",
    "* Messages the users to request they transfer ownership to themselves."
   ]
  },
  {
   "cell_type": "code",
   "execution_count": null,
   "metadata": {},
   "outputs": [],
   "source": [
    "GitHubLink.forfeit_assessment('a1')"
   ]
  },
  {
   "cell_type": "code",
   "execution_count": null,
   "metadata": {},
   "outputs": [],
   "source": []
  }
 ],
 "metadata": {
  "kernelspec": {
   "display_name": "Python 3",
   "language": "python",
   "name": "python3"
  },
  "language_info": {
   "codemirror_mode": {
    "name": "ipython",
    "version": 3
   },
   "file_extension": ".py",
   "mimetype": "text/x-python",
   "name": "python",
   "nbconvert_exporter": "python",
   "pygments_lexer": "ipython3",
   "version": "3.6.3"
  }
 },
 "nbformat": 4,
 "nbformat_minor": 2
}
