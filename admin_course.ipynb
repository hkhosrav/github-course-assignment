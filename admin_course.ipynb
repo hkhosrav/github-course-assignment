{
 "cells": [
  {
   "cell_type": "markdown",
   "metadata": {},
   "source": [
    "# UQ MDS - Course configuration"
   ]
  },
  {
   "cell_type": "markdown",
   "metadata": {},
   "source": [
    "## Required\n",
    "The cell below must always be run once on opening a new Jupyter notebook instance. The script will verify that the API token is valid and load all required objects."
   ]
  },
  {
   "cell_type": "code",
   "execution_count": null,
   "metadata": {},
   "outputs": [],
   "source": [
    "from ghca.gitlink import GitHubLink\n",
    "ghl = GitHubLink('config/TEST1000_2018_S1.json')"
   ]
  },
  {
   "cell_type": "markdown",
   "metadata": {},
   "source": [
    "## Initialise the course\n",
    "* Create the (empty) student and instructor teams.\n",
    "* Create the (private) instructors repository.\n",
    "* Assign the instructors team to the instructors repository with push permissions."
   ]
  },
  {
   "cell_type": "code",
   "execution_count": null,
   "metadata": {},
   "outputs": [],
   "source": [
    "ghl.init_course()"
   ]
  },
  {
   "cell_type": "markdown",
   "metadata": {},
   "source": [
    "## Configure assessment\n",
    "Information about assessment is stored in the instructors repository as a JSON file using the path specified in `repo_instructors_path_config` from local course configuration JSON.<br />\n",
    "<br />\n",
    "This can be called as many times as you wish if modifications need to be made to the assessment information.\n",
    "\n",
    "* Creates/modifies the JSON file located in the instructors repository.\n",
    "* Updates the assessment status and stores it in the README.md file of the instructors repository.\n",
    "\n",
    "Warning: Modifying the `main-file` and `main-dir` path after the assessment has is disallowed."
   ]
  },
  {
   "cell_type": "code",
   "execution_count": null,
   "metadata": {
    "scrolled": true
   },
   "outputs": [],
   "source": [
    "# Create dictionary to store all items of assessment\n",
    "json = dict()\n",
    "\n",
    "# Add new item of assessment\n",
    "a_name = 'a1'\n",
    "json[a_name] = dict()\n",
    "json[a_name]['main-dir'] = 'assignments/a1'\n",
    "json[a_name]['max-group-size'] = 2\n",
    "json[a_name]['deadline'] = '2018-01-31 12:00:00'\n",
    "json[a_name]['deadline-utc-offset'] = 10\n",
    "\n",
    "# Add new item of assessment\n",
    "a_name = 'a2'\n",
    "json[a_name] = dict()\n",
    "json[a_name]['main-dir'] = 'assignments/a2'\n",
    "json[a_name]['max-group-size'] = 1\n",
    "json[a_name]['deadline'] = '2018-01-16 09:49:00'\n",
    "json[a_name]['deadline-utc-offset'] = 10\n",
    "\n",
    "# Save the configuration\n",
    "ghl.configure_assessment(json)"
   ]
  },
  {
   "cell_type": "markdown",
   "metadata": {},
   "source": [
    "## Invite students\n",
    "The first column of the CSV file below will be used as a unique identifier for student username to ID mapping. This can be their school ID value or a manually assigned value.<br />\n",
    "<br />\n",
    "The second column is the GitHub username for the corresponding student ID. Note that the student must have registered a GitHub account as this will not create one for them.\n",
    "\n",
    "* Invites all students to the organisation by e-mailing the address registered to the GitHub username.\n",
    "* Stores the CSV file in the instructors repository using the path specified in `repo_instructors_path_config` from local course configuration JSON.\n",
    "* Overrides the CSV file if run multiple times, changes should therefore include the whole list plus any new changes."
   ]
  },
  {
   "cell_type": "code",
   "execution_count": null,
   "metadata": {},
   "outputs": [],
   "source": [
    "IMPORT_STUDENTS_CSV = \"\"\"StudentID,GitHubUsername\n",
    "101,test001\n",
    "102,test002\n",
    "103,test003\n",
    "\"\"\"\n",
    "\n",
    "ghl.import_students_csv(IMPORT_STUDENTS_CSV)"
   ]
  },
  {
   "cell_type": "code",
   "execution_count": null,
   "metadata": {},
   "outputs": [],
   "source": []
  }
 ],
 "metadata": {
  "kernelspec": {
   "display_name": "Python 3",
   "language": "python",
   "name": "python3"
  },
  "language_info": {
   "codemirror_mode": {
    "name": "ipython",
    "version": 3
   },
   "file_extension": ".py",
   "mimetype": "text/x-python",
   "name": "python",
   "nbconvert_exporter": "python",
   "pygments_lexer": "ipython3",
   "version": "3.6.3"
  }
 },
 "nbformat": 4,
 "nbformat_minor": 2
}
