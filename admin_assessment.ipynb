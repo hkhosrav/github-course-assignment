{
 "cells": [
  {
   "cell_type": "markdown",
   "metadata": {},
   "source": [
    "# UQ MDS - Assessment administration"
   ]
  },
  {
   "cell_type": "markdown",
   "metadata": {},
   "source": [
    "## Required\n",
    "The cell below must always be run once on opening a new Jupyter notebook instance. The script will verify that the API token is valid and load all required objects."
   ]
  },
  {
   "cell_type": "code",
   "execution_count": null,
   "metadata": {
    "scrolled": true
   },
   "outputs": [],
   "source": [
    "from ghca.gitlink import GitHubLink\n",
    "ghl = GitHubLink('config/TEST1000_2018_S1.json')"
   ]
  },
  {
   "cell_type": "markdown",
   "metadata": {},
   "source": [
    "## Setup student groups\n",
    "Groups can be specified for an item of assessment. Run this to import the student groups from a CSV file.<br />\n",
    "<br />\n",
    "This must be run before preparing the assessment. If the assessment was specified to have `max-group-size = 1` (in `admin_course.ipynb`) then the input will be ignored. It will just create individual groups.\n",
    "\n",
    "* Students which are a part of this course but not in the CSV file will be assumed to be doing the assessment by themselves.\n",
    "* Creates `groups.json` in the `main-dir` (specified in `admin_course.ipynb`) of the assessment directory (located in the instructors repository).\n",
    "* Each group name must be unique, this will form the name of the repository for the student group."
   ]
  },
  {
   "cell_type": "code",
   "execution_count": null,
   "metadata": {},
   "outputs": [],
   "source": [
    "IMPORT_STUDENT_GROUPS_CSV = \"\"\"GroupName|Members\n",
    "group1|test001,test002\n",
    "test003|test003\n",
    "\"\"\"\n",
    "\n",
    "ghl.import_assessment_groups_csv(name_assessment='a1', csv_input=IMPORT_STUDENT_GROUPS_CSV)"
   ]
  },
  {
   "cell_type": "markdown",
   "metadata": {},
   "source": [
    "## Prepare assessment\n",
    "Creates a repository for each student group which will contain all of the assessment files as listed in the `main-dir` path (specified in `admin_course.ipynb`). The repositories will not be visible to students yet.\n",
    "<br />\n",
    "<br />\n",
    "You must add at least a `README.md` to the `main-dir` path before calling this method.\n",
    "\n",
    "* Creates student repositories visible only to instructors."
   ]
  },
  {
   "cell_type": "code",
   "execution_count": null,
   "metadata": {},
   "outputs": [],
   "source": [
    "ghl.prepare_assessment(name_assessment='a1', name_target_branch='master', overwrite=False)"
   ]
  },
  {
   "cell_type": "markdown",
   "metadata": {},
   "source": [
    "## Release assessment\n",
    "Makes the repositories visible to each student group by inviting them to their assessment repository group.<br />\n",
    "<br />\n",
    "Note that a FAIL message will be displayed for each student who has not yet checked their e-mail and accepted the invitation to join the organisation. <br />\n",
    "\n",
    "Available student permissions:\n",
    "* push = read and write\n",
    "* pull = read only\n",
    "* admin = full control"
   ]
  },
  {
   "cell_type": "code",
   "execution_count": null,
   "metadata": {},
   "outputs": [],
   "source": [
    "ghl.release_assessment(name_assessment='a1', permission='push')"
   ]
  },
  {
   "cell_type": "markdown",
   "metadata": {},
   "source": [
    "## Update assessment\n",
    "Pushes any changes made to the assessment files located in the instructors directory under `main-dir` (specified in `admin_course.ipynb`). <br />\n",
    "<br />\n",
    "Modified assessment files will be pushed to the `repo_update_branch` branch specified in the local course configuration JSON file. Each student in the group will recieve a pull request to accept the changes.\n",
    "\n",
    "* Calls release_assessment to transfer new files to the instructor_updates branch for each students assessment repository.\n",
    "* Creates a pull request notifying the student to merge the instructor_updates branch with master."
   ]
  },
  {
   "cell_type": "code",
   "execution_count": null,
   "metadata": {},
   "outputs": [],
   "source": [
    "ghl.update_assessment_pr(name_assessment='a1')"
   ]
  },
  {
   "cell_type": "markdown",
   "metadata": {},
   "source": [
    "## Close assessment\n",
    "Repositories will not automatically be set to read only once the due date has passed. This method will seek the `deadline` value specified in `admin_course.ipynb` for the given assessment and find the most recent commit to `master` before the deadline.<br />\n",
    "<br />\n",
    "Creates a ZIP archive of the most recent commit and stores it in the instructors repository.\n",
    "\n",
    "* Sets student access to pull (read) on their repository.\n",
    "* Stores a ZIP copy of their submission."
   ]
  },
  {
   "cell_type": "code",
   "execution_count": null,
   "metadata": {},
   "outputs": [],
   "source": [
    "ghl.close_assessment(name_assessment='a1', compress=True)"
   ]
  },
  {
   "cell_type": "markdown",
   "metadata": {},
   "source": [
    "## Forfeit assessment\n",
    "To be used to release an item of assessment back to the user. Helps in reducing the amount of repositories in the organisation.\n",
    "\n",
    "* Assigns admin rights to each member of the repository.\n",
    "* Messages the users to request they transfer ownership to themselves."
   ]
  },
  {
   "cell_type": "code",
   "execution_count": null,
   "metadata": {},
   "outputs": [],
   "source": [
    "ghl.forfeit_assessment('a1')"
   ]
  },
  {
   "cell_type": "code",
   "execution_count": null,
   "metadata": {},
   "outputs": [],
   "source": []
  }
 ],
 "metadata": {
  "kernelspec": {
   "display_name": "Python 3",
   "language": "python",
   "name": "python3"
  },
  "language_info": {
   "codemirror_mode": {
    "name": "ipython",
    "version": 3
   },
   "file_extension": ".py",
   "mimetype": "text/x-python",
   "name": "python",
   "nbconvert_exporter": "python",
   "pygments_lexer": "ipython3",
   "version": "3.6.3"
  }
 },
 "nbformat": 4,
 "nbformat_minor": 2
}
