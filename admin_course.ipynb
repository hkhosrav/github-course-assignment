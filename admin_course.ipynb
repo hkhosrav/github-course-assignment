{
 "cells": [
  {
   "cell_type": "markdown",
   "metadata": {},
   "source": [
    "# UQ MDS - Course configuration"
   ]
  },
  {
   "cell_type": "markdown",
   "metadata": {},
   "source": [
    "## Required\n",
    "The cell below must always be run when launching a new Jupyter notebook instance.<br />\n",
    "Specify the relative path of the course configuration file as a parameter."
   ]
  },
  {
   "cell_type": "code",
   "execution_count": null,
   "metadata": {},
   "outputs": [],
   "source": [
    "from ghca.gitlink import GitHubLink\n",
    "GitHubLink = GitHubLink('config/TEST1000_2018_S1.json')"
   ]
  },
  {
   "cell_type": "markdown",
   "metadata": {},
   "source": [
    "## Create the course\n",
    "* Creates the instructors repository (private).\n",
    "* Invites the instructors team with push permissions."
   ]
  },
  {
   "cell_type": "code",
   "execution_count": null,
   "metadata": {},
   "outputs": [],
   "source": [
    "GitHubLink.init_course()"
   ]
  },
  {
   "cell_type": "markdown",
   "metadata": {},
   "source": [
    "## Configure assessment\n",
    "Assessment configuration information is stored in the instructors repository. \n",
    "\n",
    "* Modify the JSON below and execute the method to deploy the config file.\n",
    "* Manually upload assessment files across to the instructors repository using the `main-dir` path specified in the JSON file.\n",
    "\n",
    "Warning: Modifying the `main-file` and `main-dir` path after the assessment has is disallowed."
   ]
  },
  {
   "cell_type": "code",
   "execution_count": null,
   "metadata": {
    "scrolled": true
   },
   "outputs": [],
   "source": [
    "# Create dictionary to store all items of assessment\n",
    "json = dict()\n",
    "\n",
    "# Add new item of assessment\n",
    "a_name = 'a1'\n",
    "json[a_name] = dict()\n",
    "json[a_name]['main-dir'] = 'assignments/a1'\n",
    "json[a_name]['max-group-size'] = 2\n",
    "json[a_name]['deadline'] = '2018-01-31 12:00:00'\n",
    "json[a_name]['deadline-utc-offset'] = 10\n",
    "\n",
    "# Add new item of assessment\n",
    "a_name = 'a2'\n",
    "json[a_name] = dict()\n",
    "json[a_name]['main-dir'] = 'assignments/a2'\n",
    "json[a_name]['max-group-size'] = 1\n",
    "json[a_name]['deadline'] = '2018-01-16 09:49:00'\n",
    "json[a_name]['deadline-utc-offset'] = 10\n",
    "\n",
    "# Save the configuration\n",
    "GitHubLink.configure_assessment(json)"
   ]
  },
  {
   "cell_type": "markdown",
   "metadata": {},
   "source": [
    "## Invite students\n",
    "All students will be sent an invitation to their registered e-mail address on GitHub.\n",
    "* Expects the first row to contain the heading \"StudentID\" and \"GitHubUsername\"\n",
    "* Stores the mapping information in the instructors repository\n",
    "* The contents of the `student_mapping.csv` file will be overwritten with the content below."
   ]
  },
  {
   "cell_type": "code",
   "execution_count": null,
   "metadata": {},
   "outputs": [],
   "source": [
    "IMPORT_STUDENTS_CSV = \"\"\"StudentID,GitHubUsername\n",
    "101,test001\n",
    "102,test002\n",
    "103,test003\n",
    "\"\"\"\n",
    "\n",
    "GitHubLink.import_students_csv(IMPORT_STUDENTS_CSV)"
   ]
  },
  {
   "cell_type": "code",
   "execution_count": null,
   "metadata": {},
   "outputs": [],
   "source": []
  }
 ],
 "metadata": {
  "kernelspec": {
   "display_name": "Python 3",
   "language": "python",
   "name": "python3"
  },
  "language_info": {
   "codemirror_mode": {
    "name": "ipython",
    "version": 3
   },
   "file_extension": ".py",
   "mimetype": "text/x-python",
   "name": "python",
   "nbconvert_exporter": "python",
   "pygments_lexer": "ipython3",
   "version": "3.6.3"
  }
 },
 "nbformat": 4,
 "nbformat_minor": 2
}
